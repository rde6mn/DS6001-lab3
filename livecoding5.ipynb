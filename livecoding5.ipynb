{
 "cells": [
  {
   "cell_type": "code",
   "execution_count": 1,
   "id": "c46df5ad",
   "metadata": {},
   "outputs": [],
   "source": [
    "import numpy as np\n",
    "import pandas as pd\n",
    "import requests\n",
    "import json\n",
    "from bs4 import BeautifulSoup"
   ]
  },
  {
   "cell_type": "code",
   "execution_count": 3,
   "id": "4ae10100",
   "metadata": {},
   "outputs": [
    {
     "data": {
      "text/plain": [
       "'ds6001rt/0.0 (rde6mn@virginia.edu) python-requests/2.32.4'"
      ]
     },
     "execution_count": 3,
     "metadata": {},
     "output_type": "execute_result"
    }
   ],
   "source": [
    "useragent = f'ds6001rt/0.0 (rde6mn@virginia.edu) python-requests/{requests.__version__}'\n",
    "useragent"
   ]
  },
  {
   "cell_type": "code",
   "execution_count": 4,
   "id": "ee3df62b",
   "metadata": {},
   "outputs": [],
   "source": [
    "headers = {'User-Agent': useragent, 'From': 'rde6mn@virginia.edu'}"
   ]
  },
  {
   "cell_type": "code",
   "execution_count": 5,
   "id": "35f0fcc1",
   "metadata": {},
   "outputs": [],
   "source": [
    "url = 'https://www.rottentomatoes.com/browse/movies_in_theaters/sort:a_z?page=5'"
   ]
  },
  {
   "cell_type": "code",
   "execution_count": 6,
   "id": "0a86ecce",
   "metadata": {},
   "outputs": [
    {
     "data": {
      "text/plain": [
       "<Response [200]>"
      ]
     },
     "execution_count": 6,
     "metadata": {},
     "output_type": "execute_result"
    }
   ],
   "source": [
    "r = requests.get(url, headers=headers)\n",
    "r"
   ]
  },
  {
   "cell_type": "code",
   "execution_count": null,
   "id": "d13fe622",
   "metadata": {},
   "outputs": [],
   "source": [
    "mysoup = BeautifulSoup(r.text, 'html.parser')\n"
   ]
  },
  {
   "cell_type": "code",
   "execution_count": 12,
   "id": "eff8a4c8",
   "metadata": {},
   "outputs": [],
   "source": [
    "ataglist = mysoup.find_all('a', attrs={'data-track':'scores'})"
   ]
  },
  {
   "cell_type": "code",
   "execution_count": 17,
   "id": "0e2dc9f3",
   "metadata": {},
   "outputs": [
    {
     "data": {
      "text/plain": [
       "'/m/dogtooth'"
      ]
     },
     "execution_count": 17,
     "metadata": {},
     "output_type": "execute_result"
    }
   ],
   "source": [
    "ataglist[20]['href']"
   ]
  },
  {
   "cell_type": "code",
   "execution_count": 20,
   "id": "24a5ee1c",
   "metadata": {},
   "outputs": [],
   "source": [
    "urllist = ['https://www.rottentomatoes.com' + m['href'] for m in ataglist]"
   ]
  },
  {
   "cell_type": "code",
   "execution_count": 21,
   "id": "f42b059e",
   "metadata": {},
   "outputs": [],
   "source": [
    "url = urllist[0]"
   ]
  },
  {
   "cell_type": "code",
   "execution_count": 22,
   "id": "c8d8a92d",
   "metadata": {},
   "outputs": [
    {
     "data": {
      "text/plain": [
       "'https://www.rottentomatoes.com/m/a_big_bold_beautiful_journey'"
      ]
     },
     "execution_count": 22,
     "metadata": {},
     "output_type": "execute_result"
    }
   ],
   "source": [
    "url"
   ]
  },
  {
   "cell_type": "code",
   "execution_count": 23,
   "id": "b4bdadd0",
   "metadata": {},
   "outputs": [
    {
     "data": {
      "text/plain": [
       "<Response [200]>"
      ]
     },
     "execution_count": 23,
     "metadata": {},
     "output_type": "execute_result"
    }
   ],
   "source": [
    "r = requests.get(url, headers=headers)\n",
    "r"
   ]
  },
  {
   "cell_type": "code",
   "execution_count": 24,
   "id": "993ade90",
   "metadata": {},
   "outputs": [],
   "source": [
    "mysoup = BeautifulSoup(r.text, 'html.parser')"
   ]
  },
  {
   "cell_type": "code",
   "execution_count": 29,
   "id": "fb470eb6",
   "metadata": {},
   "outputs": [
    {
     "data": {
      "text/plain": [
       "'36%'"
      ]
     },
     "execution_count": 29,
     "metadata": {},
     "output_type": "execute_result"
    }
   ],
   "source": [
    "mysoup.find_all('rt-text', attrs={'slot':'criticsScore', 'role': 'button'})[0].text"
   ]
  }
 ],
 "metadata": {
  "kernelspec": {
   "display_name": "ds6001",
   "language": "python",
   "name": "python3"
  },
  "language_info": {
   "codemirror_mode": {
    "name": "ipython",
    "version": 3
   },
   "file_extension": ".py",
   "mimetype": "text/x-python",
   "name": "python",
   "nbconvert_exporter": "python",
   "pygments_lexer": "ipython3",
   "version": "3.13.5"
  }
 },
 "nbformat": 4,
 "nbformat_minor": 5
}
