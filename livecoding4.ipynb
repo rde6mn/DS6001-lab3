{
 "cells": [
  {
   "cell_type": "code",
   "execution_count": 3,
   "id": "3c0b8a31",
   "metadata": {},
   "outputs": [],
   "source": [
    "import numpy as np\n",
    "import pandas as pd\n",
    "import requests\n",
    "import json\n",
    "import os\n",
    "import dotenv"
   ]
  },
  {
   "cell_type": "markdown",
   "id": "9c1b914c",
   "metadata": {},
   "source": [
    "## Load API keys secretly as env  variables"
   ]
  },
  {
   "cell_type": "code",
   "execution_count": null,
   "id": "1fa67bc7",
   "metadata": {},
   "outputs": [],
   "source": [
    "dotenv.load_dotenv()\n",
    "newskey = os.getenv(\"newskey\")\n",
    "congresskey = os.getenv(\"congresskey\")"
   ]
  },
  {
   "cell_type": "code",
   "execution_count": 5,
   "id": "523b0991",
   "metadata": {},
   "outputs": [],
   "source": [
    "useragent = 'python-requests/2.32.4'"
   ]
  },
  {
   "cell_type": "code",
   "execution_count": 6,
   "id": "68c5cdba",
   "metadata": {},
   "outputs": [],
   "source": [
    "headers = {'User-Agent': useragent,\n",
    "           'From': 'rde6mn@virginia.edu'}\n",
    "headers['User-Agent'] = 'rde6mn/0.0 (rde6mn@virginia.edu) python-requests/2.32.4'"
   ]
  },
  {
   "cell_type": "code",
   "execution_count": 18,
   "id": "370ddca9",
   "metadata": {},
   "outputs": [],
   "source": [
    "params = {'apiKey': newskey,\n",
    "          'q': '\"john mcguire\"'}"
   ]
  },
  {
   "cell_type": "code",
   "execution_count": 19,
   "id": "674924b6",
   "metadata": {},
   "outputs": [],
   "source": [
    "root = 'https://newsapi.org'\n",
    "endpoint = '/v2/everything'\n",
    "r = requests.get(root + endpoint, headers=headers, params=params)"
   ]
  },
  {
   "cell_type": "code",
   "execution_count": 20,
   "id": "515cf7ed",
   "metadata": {},
   "outputs": [
    {
     "data": {
      "text/plain": [
       "<Response [200]>"
      ]
     },
     "execution_count": 20,
     "metadata": {},
     "output_type": "execute_result"
    }
   ],
   "source": [
    "r"
   ]
  },
  {
   "cell_type": "code",
   "execution_count": 21,
   "id": "77f6a64a",
   "metadata": {},
   "outputs": [],
   "source": [
    "newsdf = pd.json_normalize(r.json(), record_path=['articles'])"
   ]
  },
  {
   "cell_type": "code",
   "execution_count": 22,
   "id": "94cd4cd6",
   "metadata": {},
   "outputs": [
    {
     "data": {
      "text/html": [
       "<div>\n",
       "<style scoped>\n",
       "    .dataframe tbody tr th:only-of-type {\n",
       "        vertical-align: middle;\n",
       "    }\n",
       "\n",
       "    .dataframe tbody tr th {\n",
       "        vertical-align: top;\n",
       "    }\n",
       "\n",
       "    .dataframe thead th {\n",
       "        text-align: right;\n",
       "    }\n",
       "</style>\n",
       "<table border=\"1\" class=\"dataframe\">\n",
       "  <thead>\n",
       "    <tr style=\"text-align: right;\">\n",
       "      <th></th>\n",
       "      <th>author</th>\n",
       "      <th>title</th>\n",
       "      <th>description</th>\n",
       "      <th>url</th>\n",
       "      <th>urlToImage</th>\n",
       "      <th>publishedAt</th>\n",
       "      <th>content</th>\n",
       "      <th>source.id</th>\n",
       "      <th>source.name</th>\n",
       "    </tr>\n",
       "  </thead>\n",
       "  <tbody>\n",
       "    <tr>\n",
       "      <th>0</th>\n",
       "      <td>Rachel Cohen</td>\n",
       "      <td>Trump supporters, MAGA celebrate as FBI raids ...</td>\n",
       "      <td>Some of Trump's most ardent supporters applaud...</td>\n",
       "      <td>https://www.nj.com/politics/2025/08/maga-watch...</td>\n",
       "      <td>https://s.yimg.com/ny/api/res/1.2/fuHecV42scO1...</td>\n",
       "      <td>2025-08-22T13:02:06Z</td>\n",
       "      <td>MAGA world is praising an early morning FBI ra...</td>\n",
       "      <td>None</td>\n",
       "      <td>nj.com</td>\n",
       "    </tr>\n",
       "    <tr>\n",
       "      <th>1</th>\n",
       "      <td>James Bickerton</td>\n",
       "      <td>MAGA Celebrates John Bolton's Home Being Raide...</td>\n",
       "      <td>Former White House national security advisor J...</td>\n",
       "      <td>https://www.newsweek.com/maga-celebrates-john-...</td>\n",
       "      <td>https://d.newsweek.com/en/full/2707813/bolton.jpg</td>\n",
       "      <td>2025-08-22T13:45:43Z</td>\n",
       "      <td>A number of prominent supporters of Donald Tru...</td>\n",
       "      <td>newsweek</td>\n",
       "      <td>Newsweek</td>\n",
       "    </tr>\n",
       "    <tr>\n",
       "      <th>2</th>\n",
       "      <td>John Pike</td>\n",
       "      <td>FBI raids home of Trump's former national secu...</td>\n",
       "      <td>The FBI has raided the home of Donald Trump's ...</td>\n",
       "      <td>https://www.globalsecurity.org/intell/library/...</td>\n",
       "      <td>None</td>\n",
       "      <td>2025-08-23T09:19:55Z</td>\n",
       "      <td>Iran Press TV\\r\\nFriday, 22 August 2025 3:41 P...</td>\n",
       "      <td>None</td>\n",
       "      <td>Globalsecurity.org</td>\n",
       "    </tr>\n",
       "    <tr>\n",
       "      <th>3</th>\n",
       "      <td>GlobeNewswire</td>\n",
       "      <td>Hitachi announces historic $1 billion USD manu...</td>\n",
       "      <td>Trump administration-backed investment answers...</td>\n",
       "      <td>https://financialpost.com/globe-newswire/hitac...</td>\n",
       "      <td>https://smartcdn.gprod.postmedia.digital/finan...</td>\n",
       "      <td>2025-09-04T12:08:09Z</td>\n",
       "      <td>Thank you, Hitachi Energy, for trusting Virgin...</td>\n",
       "      <td>financial-post</td>\n",
       "      <td>Financial Post</td>\n",
       "    </tr>\n",
       "    <tr>\n",
       "      <th>4</th>\n",
       "      <td>Hitachi Energy Ltd</td>\n",
       "      <td>Hitachi announces historic $1 billion USD manu...</td>\n",
       "      <td>Trump administration-backed investment answers...</td>\n",
       "      <td>https://www.globenewswire.com/news-release/202...</td>\n",
       "      <td>https://ml.globenewswire.com/Resource/Download...</td>\n",
       "      <td>2025-09-04T12:07:00Z</td>\n",
       "      <td>Raleigh, North Carolina and Zurich, Switzerlan...</td>\n",
       "      <td>None</td>\n",
       "      <td>GlobeNewswire</td>\n",
       "    </tr>\n",
       "  </tbody>\n",
       "</table>\n",
       "</div>"
      ],
      "text/plain": [
       "               author                                              title  \\\n",
       "0        Rachel Cohen  Trump supporters, MAGA celebrate as FBI raids ...   \n",
       "1     James Bickerton  MAGA Celebrates John Bolton's Home Being Raide...   \n",
       "2           John Pike  FBI raids home of Trump's former national secu...   \n",
       "3       GlobeNewswire  Hitachi announces historic $1 billion USD manu...   \n",
       "4  Hitachi Energy Ltd  Hitachi announces historic $1 billion USD manu...   \n",
       "\n",
       "                                         description  \\\n",
       "0  Some of Trump's most ardent supporters applaud...   \n",
       "1  Former White House national security advisor J...   \n",
       "2  The FBI has raided the home of Donald Trump's ...   \n",
       "3  Trump administration-backed investment answers...   \n",
       "4  Trump administration-backed investment answers...   \n",
       "\n",
       "                                                 url  \\\n",
       "0  https://www.nj.com/politics/2025/08/maga-watch...   \n",
       "1  https://www.newsweek.com/maga-celebrates-john-...   \n",
       "2  https://www.globalsecurity.org/intell/library/...   \n",
       "3  https://financialpost.com/globe-newswire/hitac...   \n",
       "4  https://www.globenewswire.com/news-release/202...   \n",
       "\n",
       "                                          urlToImage           publishedAt  \\\n",
       "0  https://s.yimg.com/ny/api/res/1.2/fuHecV42scO1...  2025-08-22T13:02:06Z   \n",
       "1  https://d.newsweek.com/en/full/2707813/bolton.jpg  2025-08-22T13:45:43Z   \n",
       "2                                               None  2025-08-23T09:19:55Z   \n",
       "3  https://smartcdn.gprod.postmedia.digital/finan...  2025-09-04T12:08:09Z   \n",
       "4  https://ml.globenewswire.com/Resource/Download...  2025-09-04T12:07:00Z   \n",
       "\n",
       "                                             content       source.id  \\\n",
       "0  MAGA world is praising an early morning FBI ra...            None   \n",
       "1  A number of prominent supporters of Donald Tru...        newsweek   \n",
       "2  Iran Press TV\\r\\nFriday, 22 August 2025 3:41 P...            None   \n",
       "3  Thank you, Hitachi Energy, for trusting Virgin...  financial-post   \n",
       "4  Raleigh, North Carolina and Zurich, Switzerlan...            None   \n",
       "\n",
       "          source.name  \n",
       "0              nj.com  \n",
       "1            Newsweek  \n",
       "2  Globalsecurity.org  \n",
       "3      Financial Post  \n",
       "4       GlobeNewswire  "
      ]
     },
     "execution_count": 22,
     "metadata": {},
     "output_type": "execute_result"
    }
   ],
   "source": [
    "newsdf"
   ]
  },
  {
   "cell_type": "markdown",
   "id": "acbecf15",
   "metadata": {},
   "source": [
    "## Congress API"
   ]
  },
  {
   "cell_type": "code",
   "execution_count": null,
   "id": "e2c081e3",
   "metadata": {},
   "outputs": [
    {
     "data": {
      "text/plain": [
       "'https://api.congress.gov/v3/member/mcquireID/sponsored-legislation'"
      ]
     },
     "execution_count": 24,
     "metadata": {},
     "output_type": "execute_result"
    }
   ],
   "source": [
    "\n",
    "root = 'https://api.congress.gov/v3'"
   ]
  },
  {
   "cell_type": "code",
   "execution_count": 25,
   "id": "528f8abd",
   "metadata": {},
   "outputs": [],
   "source": [
    "stateCode = 'VA'\n",
    "district = '5'"
   ]
  },
  {
   "cell_type": "code",
   "execution_count": 26,
   "id": "d02f0ee5",
   "metadata": {},
   "outputs": [
    {
     "data": {
      "text/plain": [
       "'https://api.congress.gov/v3member/VA/5'"
      ]
     },
     "execution_count": 26,
     "metadata": {},
     "output_type": "execute_result"
    }
   ],
   "source": [
    "endpoint = f'member/{stateCode}/{district}'\n",
    "root + endpoint"
   ]
  },
  {
   "cell_type": "code",
   "execution_count": null,
   "id": "b2ce10fd",
   "metadata": {},
   "outputs": [],
   "source": [
    "params = {'format': 'json',\n",
    "          'currentMember': 'True'\n",
    "          'api_key': congresskey}"
   ]
  },
  {
   "cell_type": "code",
   "execution_count": null,
   "id": "b51d51cf",
   "metadata": {},
   "outputs": [],
   "source": [
    "r = requests.get(root + endpoint, headers=headers, params=params)\n",
    "r"
   ]
  },
  {
   "cell_type": "code",
   "execution_count": null,
   "id": "ea3a3ea5",
   "metadata": {},
   "outputs": [],
   "source": [
    "bioguideId = r.json()['members'][0]['bioguideId']"
   ]
  },
  {
   "cell_type": "code",
   "execution_count": null,
   "id": "93d02b54",
   "metadata": {},
   "outputs": [],
   "source": [
    "endpoint = f'/member/{bioguideId}/sponsored-legislation'\n",
    "params = {'api_key': congresskey,\n",
    "          'format': 'json',\n",
    "          'offset': 0,\n",
    "          'limit': 250}\n",
    "\n",
    "r = requests.get(root + endpoint, headers=headers, params=params)"
   ]
  },
  {
   "cell_type": "code",
   "execution_count": null,
   "id": "7ea984be",
   "metadata": {},
   "outputs": [],
   "source": [
    "r.json()"
   ]
  }
 ],
 "metadata": {
  "kernelspec": {
   "display_name": "ds6001",
   "language": "python",
   "name": "python3"
  },
  "language_info": {
   "codemirror_mode": {
    "name": "ipython",
    "version": 3
   },
   "file_extension": ".py",
   "mimetype": "text/x-python",
   "name": "python",
   "nbconvert_exporter": "python",
   "pygments_lexer": "ipython3",
   "version": "3.13.5"
  }
 },
 "nbformat": 4,
 "nbformat_minor": 5
}
